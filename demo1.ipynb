{
 "cells": [
  {
   "cell_type": "code",
   "execution_count": 1,
   "id": "5f0636a5-742b-4957-a6a1-81b7fdc011c9",
   "metadata": {},
   "outputs": [
    {
     "name": "stdout",
     "output_type": "stream",
     "text": [
      "Enter the Lenght:  10\n",
      "Enter the Breadth:  20\n"
     ]
    },
    {
     "name": "stdout",
     "output_type": "stream",
     "text": [
      "Area of the Rectangle =  200\n"
     ]
    }
   ],
   "source": [
    "a , b = int(input(\"Enter the Lenght: \")) , int(input(\"Enter the Breadth: \"))\n",
    "print(\"Area of the Rectangle = \",a*b)\n"
   ]
  },
  {
   "cell_type": "code",
   "execution_count": 2,
   "id": "bc5b5a22-a329-4f63-b4ae-f59ea6d51d34",
   "metadata": {},
   "outputs": [
    {
     "name": "stdout",
     "output_type": "stream",
     "text": [
      "Enter the radius:  5\n"
     ]
    },
    {
     "name": "stdout",
     "output_type": "stream",
     "text": [
      "The Circumference of the Circle is :  31.41592653589793\n"
     ]
    }
   ],
   "source": [
    "import math\n",
    "r = int(input(\"Enter the radius: \"))\n",
    "print(\"The Circumference of the Circle is : \", 2*math.pi*r)"
   ]
  },
  {
   "cell_type": "code",
   "execution_count": 3,
   "id": "e9707324-deb1-4db3-b1c5-a2867ca8b391",
   "metadata": {},
   "outputs": [
    {
     "name": "stdout",
     "output_type": "stream",
     "text": [
      "Enter the 1st number :  10\n",
      "Enter the 2st number :  5\n",
      "Operation :  +\n"
     ]
    },
    {
     "name": "stdout",
     "output_type": "stream",
     "text": [
      "Addition of the numbers is :  15\n"
     ]
    }
   ],
   "source": [
    "x , y = int(input(\"Enter the 1st number : \")) ,int(input(\"Enter the 2st number : \")) \n",
    "c = (input(\"Operation : \"))\n",
    "\n",
    "if(c == '+'):\n",
    "    print(\"Addition of the numbers is : \" , x+y)\n",
    "elif(c=='-'):\n",
    "    print(\"The Subtraction of the numbers is : \",x-y)\n",
    "elif(c=='*'):\n",
    "    print(\"The multiplication of the numbers is : \",x*y)\n",
    "elif(c=='/'):\n",
    "    print(\"The division of the numbers is : \" , x/y)\n",
    "elif(c=='//'):\n",
    "    print(\"The Floor Division is : \",x//y)\n",
    "elif(c=='**'):\n",
    "    print(\"The Exponent of the numbers is : \", x**y)\n",
    "elif(c=='%'):\n",
    "    print(\"The modulus of the number is :\" , x%y)\n",
    "else:\n",
    "    print(\"Invalid operator\")"
   ]
  },
  {
   "cell_type": "code",
   "execution_count": 6,
   "id": "e6c6a0db-8239-498f-909f-014a0b99fdcd",
   "metadata": {},
   "outputs": [
    {
     "name": "stdin",
     "output_type": "stream",
     "text": [
      "Enter your Nationality : Indian\n",
      "Enter Your Age :  20\n"
     ]
    },
    {
     "name": "stdout",
     "output_type": "stream",
     "text": [
      "You can Vote\n"
     ]
    }
   ],
   "source": [
    "a , b = input(\"Enter your Nationality :\").lower()=='indian' , int(input(\"Enter Your Age : \"))\n",
    "if(b>18 and a):\n",
    "    print(\"You can Vote\")\n",
    "else:\n",
    "    print(\"You cannot vote\")"
   ]
  },
  {
   "cell_type": "code",
   "execution_count": null,
   "id": "048ffd59-3cdf-43b5-bfb5-479c6bb56366",
   "metadata": {},
   "outputs": [],
   "source": []
  }
 ],
 "metadata": {
  "kernelspec": {
   "display_name": "Python 3 (ipykernel)",
   "language": "python",
   "name": "python3"
  },
  "language_info": {
   "codemirror_mode": {
    "name": "ipython",
    "version": 3
   },
   "file_extension": ".py",
   "mimetype": "text/x-python",
   "name": "python",
   "nbconvert_exporter": "python",
   "pygments_lexer": "ipython3",
   "version": "3.11.4"
  }
 },
 "nbformat": 4,
 "nbformat_minor": 5
}
